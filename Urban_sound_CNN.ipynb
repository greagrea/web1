{
  "nbformat": 4,
  "nbformat_minor": 0,
  "metadata": {
    "colab": {
      "name": "Urban_sound_CNN.ipynb",
      "provenance": [],
      "collapsed_sections": [],
      "authorship_tag": "ABX9TyPGg/GzN6OURfxBJV+CcLYb",
      "include_colab_link": true
    },
    "kernelspec": {
      "name": "python3",
      "display_name": "Python 3"
    },
    "language_info": {
      "name": "python"
    },
    "accelerator": "GPU"
  },
  "cells": [
    {
      "cell_type": "markdown",
      "metadata": {
        "id": "view-in-github",
        "colab_type": "text"
      },
      "source": [
        "<a href=\"https://colab.research.google.com/github/greagrea/web1/blob/main/Urban_sound_CNN.ipynb\" target=\"_parent\"><img src=\"https://colab.research.google.com/assets/colab-badge.svg\" alt=\"Open In Colab\"/></a>"
      ]
    },
    {
      "cell_type": "code",
      "metadata": {
        "id": "pU3rb4xBP-Lg"
      },
      "source": [
        "import os\n",
        "os.environ['KAGGLE_USERNAME'] = 'baaeeek' # username\n",
        "os.environ['KAGGLE_KEY'] = 'f52c9785fa2f0ccfaa4e4b31b98bca40' # key"
      ],
      "execution_count": 2,
      "outputs": []
    },
    {
      "cell_type": "code",
      "metadata": {
        "colab": {
          "base_uri": "https://localhost:8080/"
        },
        "id": "GGjNmuwVRqWZ",
        "outputId": "b8a6aa10-2cb8-43dd-9bc2-dc927a553ac0"
      },
      "source": [
        "!kaggle datasets download -d chrisfilo/urbansound8k"
      ],
      "execution_count": 3,
      "outputs": [
        {
          "output_type": "stream",
          "text": [
            "Downloading urbansound8k.zip to /content\n",
            "100% 5.61G/5.61G [02:00<00:00, 136MB/s]\n",
            "100% 5.61G/5.61G [02:01<00:00, 49.8MB/s]\n"
          ],
          "name": "stdout"
        }
      ]
    },
    {
      "cell_type": "code",
      "metadata": {
        "id": "UqsvK5jdRvR_"
      },
      "source": [
        "!unzip -q urbansound8k.zip"
      ],
      "execution_count": 4,
      "outputs": []
    },
    {
      "cell_type": "code",
      "metadata": {
        "id": "QxtuZd11SUNo"
      },
      "source": [
        "import pandas as pd\n",
        "import numpy as np\n",
        "import matplotlib.pyplot as plt\n",
        "import os\n",
        "from tqdm import tqdm"
      ],
      "execution_count": 5,
      "outputs": []
    },
    {
      "cell_type": "code",
      "metadata": {
        "id": "mWHg_0GLTnWr"
      },
      "source": [
        "data=pd.read_csv(\"UrbanSound8K.csv\")"
      ],
      "execution_count": 6,
      "outputs": []
    },
    {
      "cell_type": "code",
      "metadata": {
        "colab": {
          "base_uri": "https://localhost:8080/",
          "height": 290
        },
        "id": "R5Mt2rRvTpcy",
        "outputId": "05ffb37f-16e0-4da0-bfda-1b7c938ed9f2"
      },
      "source": [
        "data.head(5)"
      ],
      "execution_count": 7,
      "outputs": [
        {
          "output_type": "execute_result",
          "data": {
            "text/html": [
              "<div>\n",
              "<style scoped>\n",
              "    .dataframe tbody tr th:only-of-type {\n",
              "        vertical-align: middle;\n",
              "    }\n",
              "\n",
              "    .dataframe tbody tr th {\n",
              "        vertical-align: top;\n",
              "    }\n",
              "\n",
              "    .dataframe thead th {\n",
              "        text-align: right;\n",
              "    }\n",
              "</style>\n",
              "<table border=\"1\" class=\"dataframe\">\n",
              "  <thead>\n",
              "    <tr style=\"text-align: right;\">\n",
              "      <th></th>\n",
              "      <th>slice_file_name</th>\n",
              "      <th>fsID</th>\n",
              "      <th>start</th>\n",
              "      <th>end</th>\n",
              "      <th>salience</th>\n",
              "      <th>fold</th>\n",
              "      <th>classID</th>\n",
              "      <th>class</th>\n",
              "    </tr>\n",
              "  </thead>\n",
              "  <tbody>\n",
              "    <tr>\n",
              "      <th>0</th>\n",
              "      <td>100032-3-0-0.wav</td>\n",
              "      <td>100032</td>\n",
              "      <td>0.0</td>\n",
              "      <td>0.317551</td>\n",
              "      <td>1</td>\n",
              "      <td>5</td>\n",
              "      <td>3</td>\n",
              "      <td>dog_bark</td>\n",
              "    </tr>\n",
              "    <tr>\n",
              "      <th>1</th>\n",
              "      <td>100263-2-0-117.wav</td>\n",
              "      <td>100263</td>\n",
              "      <td>58.5</td>\n",
              "      <td>62.500000</td>\n",
              "      <td>1</td>\n",
              "      <td>5</td>\n",
              "      <td>2</td>\n",
              "      <td>children_playing</td>\n",
              "    </tr>\n",
              "    <tr>\n",
              "      <th>2</th>\n",
              "      <td>100263-2-0-121.wav</td>\n",
              "      <td>100263</td>\n",
              "      <td>60.5</td>\n",
              "      <td>64.500000</td>\n",
              "      <td>1</td>\n",
              "      <td>5</td>\n",
              "      <td>2</td>\n",
              "      <td>children_playing</td>\n",
              "    </tr>\n",
              "    <tr>\n",
              "      <th>3</th>\n",
              "      <td>100263-2-0-126.wav</td>\n",
              "      <td>100263</td>\n",
              "      <td>63.0</td>\n",
              "      <td>67.000000</td>\n",
              "      <td>1</td>\n",
              "      <td>5</td>\n",
              "      <td>2</td>\n",
              "      <td>children_playing</td>\n",
              "    </tr>\n",
              "    <tr>\n",
              "      <th>4</th>\n",
              "      <td>100263-2-0-137.wav</td>\n",
              "      <td>100263</td>\n",
              "      <td>68.5</td>\n",
              "      <td>72.500000</td>\n",
              "      <td>1</td>\n",
              "      <td>5</td>\n",
              "      <td>2</td>\n",
              "      <td>children_playing</td>\n",
              "    </tr>\n",
              "  </tbody>\n",
              "</table>\n",
              "</div>"
            ],
            "text/plain": [
              "      slice_file_name    fsID  start  ...  fold  classID             class\n",
              "0    100032-3-0-0.wav  100032    0.0  ...     5        3          dog_bark\n",
              "1  100263-2-0-117.wav  100263   58.5  ...     5        2  children_playing\n",
              "2  100263-2-0-121.wav  100263   60.5  ...     5        2  children_playing\n",
              "3  100263-2-0-126.wav  100263   63.0  ...     5        2  children_playing\n",
              "4  100263-2-0-137.wav  100263   68.5  ...     5        2  children_playing\n",
              "\n",
              "[5 rows x 8 columns]"
            ]
          },
          "metadata": {
            "tags": []
          },
          "execution_count": 7
        }
      ]
    },
    {
      "cell_type": "code",
      "metadata": {
        "colab": {
          "base_uri": "https://localhost:8080/"
        },
        "id": "cRmxLTN1TrGB",
        "outputId": "043889c1-e27b-4c9c-cd38-0a96c53c40c9"
      },
      "source": [
        "data[\"fold\"].value_counts()"
      ],
      "execution_count": 8,
      "outputs": [
        {
          "output_type": "execute_result",
          "data": {
            "text/plain": [
              "4     990\n",
              "5     936\n",
              "3     925\n",
              "2     888\n",
              "1     873\n",
              "7     838\n",
              "10    837\n",
              "6     823\n",
              "9     816\n",
              "8     806\n",
              "Name: fold, dtype: int64"
            ]
          },
          "metadata": {
            "tags": []
          },
          "execution_count": 8
        }
      ]
    },
    {
      "cell_type": "code",
      "metadata": {
        "id": "yWNTjKI3UVHg"
      },
      "source": [
        "from librosa import display\n",
        "import librosa"
      ],
      "execution_count": 9,
      "outputs": []
    },
    {
      "cell_type": "code",
      "metadata": {
        "colab": {
          "base_uri": "https://localhost:8080/"
        },
        "id": "Z3bN_nqNUYnB",
        "outputId": "e166fc5a-3a8b-4bcf-9a3f-05dfc28dc179"
      },
      "source": [
        "y,sr=librosa.load(\"fold5/100032-3-0-0.wav\")\n",
        "mfccs = librosa.feature.mfcc(y, sr, n_mfcc=40)\n",
        "print(y.shape)\n",
        "print(y)"
      ],
      "execution_count": 10,
      "outputs": [
        {
          "output_type": "stream",
          "text": [
            "(7002,)\n",
            "[-0.00346022 -0.00502555 -0.00465325 ... -0.00248061 -0.00155105\n",
            " -0.0003528 ]\n"
          ],
          "name": "stdout"
        }
      ]
    },
    {
      "cell_type": "code",
      "metadata": {
        "colab": {
          "base_uri": "https://localhost:8080/",
          "height": 293
        },
        "id": "U0DWzYafUzjw",
        "outputId": "14a5bfbe-99a6-40db-b4df-3f2a2641da2b"
      },
      "source": [
        "import matplotlib.pyplot as plt\n",
        "plt.figure(figsize=(10,4))\n",
        "librosa.display.specshow(mfccs, x_axis='time')\n",
        "plt.colorbar()\n",
        "plt.title('MFCC')\n",
        "plt.tight_layout()"
      ],
      "execution_count": 11,
      "outputs": [
        {
          "output_type": "display_data",
          "data": {
            "image/png": "[encoded data removed]",
            "text/plain": [
              "<Figure size 720x288 with 2 Axes>"
            ]
          },
          "metadata": {
            "tags": [],
            "needs_background": "light"
          }
        }
      ]
    },
    {
      "cell_type": "code",
      "metadata": {
        "colab": {
          "base_uri": "https://localhost:8080/"
        },
        "id": "cA-O6OEeVcsW",
        "outputId": "4c83dfea-60d7-4ba8-aced-ae5cc1327521"
      },
      "source": [
        "x_train=[]\n",
        "x_test=[]\n",
        "y_train=[]\n",
        "y_test=[]\n",
        "path=\"fold\"\n",
        "for i in tqdm(range(len(data))):\n",
        "    fold_no=str(data.iloc[i][\"fold\"])\n",
        "    file=data.iloc[i][\"slice_file_name\"]\n",
        "    label=data.iloc[i][\"classID\"]\n",
        "    filename=path+fold_no+\"/\"+file\n",
        "    #print(filename)\n",
        "    y,sr=librosa.load(filename)\n",
        "    mfccs = np.mean(librosa.feature.mfcc(y, sr, n_mfcc=40).T,axis=0)\n",
        "    #print(mfccs.shape,mfccs.max(),mfccs.min())\n",
        "    if(fold_no!='10'):\n",
        "      x_train.append(mfccs)\n",
        "      y_train.append(label)\n",
        "    else:\n",
        "      x_test.append(mfccs)\n",
        "      y_test.append(label)"
      ],
      "execution_count": 12,
      "outputs": [
        {
          "output_type": "stream",
          "text": [
            " 41%|████      | 3555/8732 [12:12<17:06,  5.04it/s]/usr/local/lib/python3.7/dist-packages/librosa/core/spectrum.py:224: UserWarning: n_fft=2048 is too small for input signal of length=1323\n",
            "  n_fft, y.shape[-1]\n",
            " 95%|█████████▌| 8325/8732 [27:53<00:56,  7.26it/s]/usr/local/lib/python3.7/dist-packages/librosa/core/spectrum.py:224: UserWarning: n_fft=2048 is too small for input signal of length=1103\n",
            "  n_fft, y.shape[-1]\n",
            "/usr/local/lib/python3.7/dist-packages/librosa/core/spectrum.py:224: UserWarning: n_fft=2048 is too small for input signal of length=1523\n",
            "  n_fft, y.shape[-1]\n",
            "100%|██████████| 8732/8732 [29:08<00:00,  4.99it/s]\n"
          ],
          "name": "stderr"
        }
      ]
    },
    {
      "cell_type": "code",
      "metadata": {
        "colab": {
          "base_uri": "https://localhost:8080/"
        },
        "id": "nUExMjLbVs7r",
        "outputId": "affb35e7-9e54-460d-8691-6cf6449cfd1e"
      },
      "source": [
        "len(x_train)+len(x_test)"
      ],
      "execution_count": 13,
      "outputs": [
        {
          "output_type": "execute_result",
          "data": {
            "text/plain": [
              "8732"
            ]
          },
          "metadata": {
            "tags": []
          },
          "execution_count": 13
        }
      ]
    },
    {
      "cell_type": "code",
      "metadata": {
        "colab": {
          "base_uri": "https://localhost:8080/"
        },
        "id": "ZDTWoXl9eKXu",
        "outputId": "038b9c67-21b5-402c-a3e0-f23e5bd878a0"
      },
      "source": [
        "len(data)"
      ],
      "execution_count": 14,
      "outputs": [
        {
          "output_type": "execute_result",
          "data": {
            "text/plain": [
              "8732"
            ]
          },
          "metadata": {
            "tags": []
          },
          "execution_count": 14
        }
      ]
    },
    {
      "cell_type": "code",
      "metadata": {
        "colab": {
          "base_uri": "https://localhost:8080/"
        },
        "id": "aaMyZFwReMW_",
        "outputId": "3de13aca-c4e2-42fd-f750-57b6081aae40"
      },
      "source": [
        "x_train=np.array(x_train)\n",
        "x_test=np.array(x_test)\n",
        "y_train=np.array(y_train)\n",
        "y_test=np.array(y_test)\n",
        "x_train.shape,x_test.shape,y_train.shape,y_test.shape"
      ],
      "execution_count": 15,
      "outputs": [
        {
          "output_type": "execute_result",
          "data": {
            "text/plain": [
              "((7895, 40), (837, 40), (7895,), (837,))"
            ]
          },
          "metadata": {
            "tags": []
          },
          "execution_count": 15
        }
      ]
    },
    {
      "cell_type": "code",
      "metadata": {
        "id": "nak5ccakePsh"
      },
      "source": [
        "np.savetxt(\"train_data.csv\", x_train, delimiter=\",\")\n",
        "np.savetxt(\"test_data.csv\",x_test,delimiter=\",\")\n",
        "np.savetxt(\"train_labels.csv\",y_train,delimiter=\",\")\n",
        "np.savetxt(\"test_labels.csv\",y_test,delimiter=\",\")"
      ],
      "execution_count": 16,
      "outputs": []
    },
    {
      "cell_type": "code",
      "metadata": {
        "colab": {
          "base_uri": "https://localhost:8080/"
        },
        "id": "OWXdK8dxeShG",
        "outputId": "f2cc2cb1-6e72-4820-d22f-b2377d77bb98"
      },
      "source": [
        "x_test[0].shape"
      ],
      "execution_count": 18,
      "outputs": [
        {
          "output_type": "execute_result",
          "data": {
            "text/plain": [
              "(40,)"
            ]
          },
          "metadata": {
            "tags": []
          },
          "execution_count": 18
        }
      ]
    },
    {
      "cell_type": "code",
      "metadata": {
        "id": "JF0eyWFmeUPA"
      },
      "source": [
        "from numpy import genfromtxt\n",
        "x_train = genfromtxt('train_data.csv', delimiter=',')\n",
        "y_train = genfromtxt('train_labels.csv', delimiter=',')\n",
        "x_test = genfromtxt('test_data.csv', delimiter=',')\n",
        "y_test = genfromtxt('test_labels.csv', delimiter=',')"
      ],
      "execution_count": 19,
      "outputs": []
    },
    {
      "cell_type": "code",
      "metadata": {
        "colab": {
          "base_uri": "https://localhost:8080/"
        },
        "id": "mUScKT_GejtN",
        "outputId": "6491f7c7-0fc6-4c25-c286-853942c1d181"
      },
      "source": [
        "x_train.shape,x_test.shape,y_train.shape,y_test.shape"
      ],
      "execution_count": 20,
      "outputs": [
        {
          "output_type": "execute_result",
          "data": {
            "text/plain": [
              "((7895, 40), (837, 40), (7895,), (837,))"
            ]
          },
          "metadata": {
            "tags": []
          },
          "execution_count": 20
        }
      ]
    },
    {
      "cell_type": "code",
      "metadata": {
        "colab": {
          "base_uri": "https://localhost:8080/"
        },
        "id": "kSj-mo1zemAa",
        "outputId": "d02db7c9-5ca0-41c9-bf47-aee04e6ca5eb"
      },
      "source": [
        "from tensorflow.keras.utils import to_categorical\n",
        "y_train = to_categorical(y_train, num_classes=10)\n",
        "y_test = to_categorical(y_test, num_classes=10)\n",
        "y_train.shape,y_test.shape"
      ],
      "execution_count": 21,
      "outputs": [
        {
          "output_type": "execute_result",
          "data": {
            "text/plain": [
              "((7895, 10), (837, 10))"
            ]
          },
          "metadata": {
            "tags": []
          },
          "execution_count": 21
        }
      ]
    },
    {
      "cell_type": "code",
      "metadata": {
        "id": "b3FkUFpjepS3"
      },
      "source": [
        "x_train=np.reshape(x_train,(x_train.shape[0], 40,1,1))\n",
        "x_test=np.reshape(x_test,(x_test.shape[0], 40,1,1))"
      ],
      "execution_count": 22,
      "outputs": []
    },
    {
      "cell_type": "code",
      "metadata": {
        "colab": {
          "base_uri": "https://localhost:8080/"
        },
        "id": "BKBZtT6Eet-s",
        "outputId": "b1c85c69-5b8e-40fd-d391-33b9c9ad0fba"
      },
      "source": [
        "x_train.shape,x_test.shape"
      ],
      "execution_count": 23,
      "outputs": [
        {
          "output_type": "execute_result",
          "data": {
            "text/plain": [
              "((7895, 40, 1, 1), (837, 40, 1, 1))"
            ]
          },
          "metadata": {
            "tags": []
          },
          "execution_count": 23
        }
      ]
    },
    {
      "cell_type": "code",
      "metadata": {
        "colab": {
          "base_uri": "https://localhost:8080/"
        },
        "id": "J2-XIALxevZ4",
        "outputId": "c4668041-3895-448b-904f-91d13134f2ae"
      },
      "source": [
        "from tensorflow.keras import Sequential\n",
        "import tensorflow as tf\n",
        "print(tf.__version__)\n",
        "from tensorflow.keras.layers import Dense, Flatten, Conv2D, MaxPooling2D, Dropout\n",
        "from tensorflow.keras import Model"
      ],
      "execution_count": 24,
      "outputs": [
        {
          "output_type": "stream",
          "text": [
            "2.5.0\n"
          ],
          "name": "stdout"
        }
      ]
    },
    {
      "cell_type": "code",
      "metadata": {
        "id": "fz_mEsRDexXn"
      },
      "source": [
        "model=Sequential()"
      ],
      "execution_count": 25,
      "outputs": []
    },
    {
      "cell_type": "code",
      "metadata": {
        "id": "7zEZVxs8ezD2"
      },
      "source": [
        "model.add(Conv2D(64,kernel_size=5,strides=1,padding=\"Same\",activation=\"relu\",input_shape=(40,1,1)))\n",
        "model.add(MaxPooling2D(padding=\"same\"))\n",
        "\n",
        "model.add(Conv2D(128,kernel_size=5,strides=1,padding=\"same\",activation=\"relu\"))\n",
        "model.add(MaxPooling2D(padding=\"same\"))\n",
        "model.add(Dropout(0.3))\n",
        "\n",
        "model.add(Flatten())\n",
        "\n",
        "model.add(Dense(256,activation=\"relu\"))\n",
        "model.add(Dropout(0.3))\n",
        "\n",
        "model.add(Dense(512,activation=\"relu\"))\n",
        "model.add(Dropout(0.3))\n",
        "\n",
        "model.add(Dense(10,activation=\"softmax\"))"
      ],
      "execution_count": 26,
      "outputs": []
    },
    {
      "cell_type": "code",
      "metadata": {
        "id": "aBCSyzuoe12v"
      },
      "source": [
        "model.compile(optimizer=\"adam\",loss=\"categorical_crossentropy\",metrics=[\"accuracy\"])"
      ],
      "execution_count": 27,
      "outputs": []
    },
    {
      "cell_type": "code",
      "metadata": {
        "colab": {
          "base_uri": "https://localhost:8080/"
        },
        "id": "O5bSLRsBe39r",
        "outputId": "8308e301-6a98-4df5-a443-36ce0c125c48"
      },
      "source": [
        "model.fit(x_train,y_train,batch_size=50,epochs=30,validation_data=(x_test,y_test))"
      ],
      "execution_count": 28,
      "outputs": [
        {
          "output_type": "stream",
          "text": [
            "Epoch 1/30\n",
            "158/158 [==============================] - 33s 7ms/step - loss: 1.6771 - accuracy: 0.4123 - val_loss: 1.4687 - val_accuracy: 0.4898\n",
            "Epoch 2/30\n",
            "158/158 [==============================] - 1s 4ms/step - loss: 1.1412 - accuracy: 0.6089 - val_loss: 1.3305 - val_accuracy: 0.5281\n",
            "Epoch 3/30\n",
            "158/158 [==============================] - 1s 4ms/step - loss: 0.8693 - accuracy: 0.7031 - val_loss: 1.2586 - val_accuracy: 0.5603\n",
            "Epoch 4/30\n",
            "158/158 [==============================] - 1s 4ms/step - loss: 0.7087 - accuracy: 0.7657 - val_loss: 1.2259 - val_accuracy: 0.5998\n",
            "Epoch 5/30\n",
            "158/158 [==============================] - 1s 4ms/step - loss: 0.6045 - accuracy: 0.7953 - val_loss: 1.2599 - val_accuracy: 0.6117\n",
            "Epoch 6/30\n",
            "158/158 [==============================] - 1s 4ms/step - loss: 0.5246 - accuracy: 0.8196 - val_loss: 1.3355 - val_accuracy: 0.5914\n",
            "Epoch 7/30\n",
            "158/158 [==============================] - 1s 4ms/step - loss: 0.4675 - accuracy: 0.8429 - val_loss: 1.3615 - val_accuracy: 0.6081\n",
            "Epoch 8/30\n",
            "158/158 [==============================] - 1s 4ms/step - loss: 0.4224 - accuracy: 0.8552 - val_loss: 1.3732 - val_accuracy: 0.5926\n",
            "Epoch 9/30\n",
            "158/158 [==============================] - 1s 4ms/step - loss: 0.3996 - accuracy: 0.8628 - val_loss: 1.4857 - val_accuracy: 0.6201\n",
            "Epoch 10/30\n",
            "158/158 [==============================] - 1s 4ms/step - loss: 0.3737 - accuracy: 0.8756 - val_loss: 1.4630 - val_accuracy: 0.6392\n",
            "Epoch 11/30\n",
            "158/158 [==============================] - 1s 4ms/step - loss: 0.3350 - accuracy: 0.8854 - val_loss: 1.5126 - val_accuracy: 0.6249\n",
            "Epoch 12/30\n",
            "158/158 [==============================] - 1s 4ms/step - loss: 0.3203 - accuracy: 0.8946 - val_loss: 1.6616 - val_accuracy: 0.6249\n",
            "Epoch 13/30\n",
            "158/158 [==============================] - 1s 4ms/step - loss: 0.2803 - accuracy: 0.9045 - val_loss: 1.5738 - val_accuracy: 0.6081\n",
            "Epoch 14/30\n",
            "158/158 [==============================] - 1s 4ms/step - loss: 0.2846 - accuracy: 0.9047 - val_loss: 1.4916 - val_accuracy: 0.6284\n",
            "Epoch 15/30\n",
            "158/158 [==============================] - 1s 4ms/step - loss: 0.2663 - accuracy: 0.9074 - val_loss: 1.7553 - val_accuracy: 0.6105\n",
            "Epoch 16/30\n",
            "158/158 [==============================] - 1s 4ms/step - loss: 0.2343 - accuracy: 0.9183 - val_loss: 1.7104 - val_accuracy: 0.6332\n",
            "Epoch 17/30\n",
            "158/158 [==============================] - 1s 4ms/step - loss: 0.2491 - accuracy: 0.9179 - val_loss: 1.5908 - val_accuracy: 0.6583\n",
            "Epoch 18/30\n",
            "158/158 [==============================] - 1s 4ms/step - loss: 0.2092 - accuracy: 0.9315 - val_loss: 2.0882 - val_accuracy: 0.5591\n",
            "Epoch 19/30\n",
            "158/158 [==============================] - 1s 4ms/step - loss: 0.2409 - accuracy: 0.9210 - val_loss: 1.8805 - val_accuracy: 0.6296\n",
            "Epoch 20/30\n",
            "158/158 [==============================] - 1s 4ms/step - loss: 0.2216 - accuracy: 0.9284 - val_loss: 2.2579 - val_accuracy: 0.5866\n",
            "Epoch 21/30\n",
            "158/158 [==============================] - 1s 4ms/step - loss: 0.2004 - accuracy: 0.9340 - val_loss: 2.1527 - val_accuracy: 0.6272\n",
            "Epoch 22/30\n",
            "158/158 [==============================] - 1s 4ms/step - loss: 0.1812 - accuracy: 0.9392 - val_loss: 1.9393 - val_accuracy: 0.5998\n",
            "Epoch 23/30\n",
            "158/158 [==============================] - 1s 4ms/step - loss: 0.1758 - accuracy: 0.9384 - val_loss: 1.8566 - val_accuracy: 0.6189\n",
            "Epoch 24/30\n",
            "158/158 [==============================] - 1s 4ms/step - loss: 0.1777 - accuracy: 0.9405 - val_loss: 2.1622 - val_accuracy: 0.6332\n",
            "Epoch 25/30\n",
            "158/158 [==============================] - 1s 4ms/step - loss: 0.1656 - accuracy: 0.9439 - val_loss: 2.0747 - val_accuracy: 0.6189\n",
            "Epoch 26/30\n",
            "158/158 [==============================] - 1s 4ms/step - loss: 0.1633 - accuracy: 0.9427 - val_loss: 1.9737 - val_accuracy: 0.6249\n",
            "Epoch 27/30\n",
            "158/158 [==============================] - 1s 4ms/step - loss: 0.1558 - accuracy: 0.9474 - val_loss: 2.2642 - val_accuracy: 0.6093\n",
            "Epoch 28/30\n",
            "158/158 [==============================] - 1s 4ms/step - loss: 0.1743 - accuracy: 0.9435 - val_loss: 2.0653 - val_accuracy: 0.6165\n",
            "Epoch 29/30\n",
            "158/158 [==============================] - 1s 4ms/step - loss: 0.1545 - accuracy: 0.9465 - val_loss: 2.0611 - val_accuracy: 0.6284\n",
            "Epoch 30/30\n",
            "158/158 [==============================] - 1s 4ms/step - loss: 0.1529 - accuracy: 0.9486 - val_loss: 2.1123 - val_accuracy: 0.6296\n"
          ],
          "name": "stdout"
        },
        {
          "output_type": "execute_result",
          "data": {
            "text/plain": [
              "<tensorflow.python.keras.callbacks.History at 0x7f3ea01a6f90>"
            ]
          },
          "metadata": {
            "tags": []
          },
          "execution_count": 28
        }
      ]
    },
    {
      "cell_type": "code",
      "metadata": {
        "colab": {
          "base_uri": "https://localhost:8080/"
        },
        "id": "vgb8wf4me6T3",
        "outputId": "ad50e7cc-c1a2-44a7-a385-d23869f2934f"
      },
      "source": [
        "train_loss_score=model.evaluate(x_train,y_train)\n",
        "test_loss_score=model.evaluate(x_test,y_test)\n",
        "print(train_loss_score)\n",
        "print(test_loss_score)"
      ],
      "execution_count": 29,
      "outputs": [
        {
          "output_type": "stream",
          "text": [
            "247/247 [==============================] - 1s 3ms/step - loss: 0.0241 - accuracy: 0.9942\n",
            "27/27 [==============================] - 0s 4ms/step - loss: 2.1123 - accuracy: 0.6296\n",
            "[0.024139443412423134, 0.994173526763916]\n",
            "[2.1122794151306152, 0.6296296119689941]\n"
          ],
          "name": "stdout"
        }
      ]
    },
    {
      "cell_type": "code",
      "metadata": {
        "colab": {
          "base_uri": "https://localhost:8080/"
        },
        "id": "TTpsukWEfQ6y",
        "outputId": "8717ebde-7d6b-41ea-f598-6112f1d91633"
      },
      "source": [
        "model.summary()"
      ],
      "execution_count": 30,
      "outputs": [
        {
          "output_type": "stream",
          "text": [
            "Model: \"sequential\"\n",
            "_________________________________________________________________\n",
            "Layer (type)                 Output Shape              Param #   \n",
            "=================================================================\n",
            "conv2d (Conv2D)              (None, 40, 1, 64)         1664      \n",
            "_________________________________________________________________\n",
            "max_pooling2d (MaxPooling2D) (None, 20, 1, 64)         0         \n",
            "_________________________________________________________________\n",
            "conv2d_1 (Conv2D)            (None, 20, 1, 128)        204928    \n",
            "_________________________________________________________________\n",
            "max_pooling2d_1 (MaxPooling2 (None, 10, 1, 128)        0         \n",
            "_________________________________________________________________\n",
            "dropout (Dropout)            (None, 10, 1, 128)        0         \n",
            "_________________________________________________________________\n",
            "flatten (Flatten)            (None, 1280)              0         \n",
            "_________________________________________________________________\n",
            "dense (Dense)                (None, 256)               327936    \n",
            "_________________________________________________________________\n",
            "dropout_1 (Dropout)          (None, 256)               0         \n",
            "_________________________________________________________________\n",
            "dense_1 (Dense)              (None, 512)               131584    \n",
            "_________________________________________________________________\n",
            "dropout_2 (Dropout)          (None, 512)               0         \n",
            "_________________________________________________________________\n",
            "dense_2 (Dense)              (None, 10)                5130      \n",
            "=================================================================\n",
            "Total params: 671,242\n",
            "Trainable params: 671,242\n",
            "Non-trainable params: 0\n",
            "_________________________________________________________________\n"
          ],
          "name": "stdout"
        }
      ]
    },
    {
      "cell_type": "code",
      "metadata": {
        "colab": {
          "base_uri": "https://localhost:8080/"
        },
        "id": "H1ls6n_KfVsy",
        "outputId": "f845dd2a-e571-4509-de16-6eec6649e90e"
      },
      "source": [
        "model.save('urbanClassifier')"
      ],
      "execution_count": 31,
      "outputs": [
        {
          "output_type": "stream",
          "text": [
            "INFO:tensorflow:Assets written to: urbanClassifier/assets\n"
          ],
          "name": "stdout"
        }
      ]
    },
    {
      "cell_type": "code",
      "metadata": {
        "colab": {
          "base_uri": "https://localhost:8080/"
        },
        "id": "-ltfOTEsfYdo",
        "outputId": "2338361f-c8b6-4d09-8960-3431361b5e4c"
      },
      "source": [
        "converter = tf.lite.TFLiteConverter.from_keras_model(model)\n",
        "tflite_model = converter.convert()\n",
        "\n",
        "# Save the TF Lite model.\n",
        "with tf.io.gfile.GFile('model.tflite', 'wb') as f:\n",
        "  f.write(tflite_model)"
      ],
      "execution_count": 32,
      "outputs": [
        {
          "output_type": "stream",
          "text": [
            "INFO:tensorflow:Assets written to: /tmp/tmpvonj3_ch/assets\n"
          ],
          "name": "stdout"
        }
      ]
    },
    {
      "cell_type": "code",
      "metadata": {
        "colab": {
          "base_uri": "https://localhost:8080/"
        },
        "id": "vcbZCzMffbdp",
        "outputId": "c545ac45-3505-4a1c-91d9-719b2ff337a7"
      },
      "source": [
        "x_test[0].shape"
      ],
      "execution_count": 33,
      "outputs": [
        {
          "output_type": "execute_result",
          "data": {
            "text/plain": [
              "(40, 1, 1)"
            ]
          },
          "metadata": {
            "tags": []
          },
          "execution_count": 33
        }
      ]
    },
    {
      "cell_type": "code",
      "metadata": {
        "colab": {
          "base_uri": "https://localhost:8080/"
        },
        "id": "Q0KrXcFfgYrQ",
        "outputId": "8cb7e969-a78e-4322-878e-d0a477d49383"
      },
      "source": [
        "testData = np.expand_dims(x_test[5],axis=0)\n",
        "prediction = model.predict_classes(testData)"
      ],
      "execution_count": 34,
      "outputs": [
        {
          "output_type": "stream",
          "text": [
            "/usr/local/lib/python3.7/dist-packages/tensorflow/python/keras/engine/sequential.py:455: UserWarning: `model.predict_classes()` is deprecated and will be removed after 2021-01-01. Please use instead:* `np.argmax(model.predict(x), axis=-1)`,   if your model does multi-class classification   (e.g. if it uses a `softmax` last-layer activation).* `(model.predict(x) > 0.5).astype(\"int32\")`,   if your model does binary classification   (e.g. if it uses a `sigmoid` last-layer activation).\n",
            "  warnings.warn('`model.predict_classes()` is deprecated and '\n"
          ],
          "name": "stderr"
        }
      ]
    },
    {
      "cell_type": "code",
      "metadata": {
        "colab": {
          "base_uri": "https://localhost:8080/"
        },
        "id": "beiJBhrxgbhN",
        "outputId": "10ecb390-fa23-4360-bf0a-ed4b6886313d"
      },
      "source": [
        "prediction"
      ],
      "execution_count": 35,
      "outputs": [
        {
          "output_type": "execute_result",
          "data": {
            "text/plain": [
              "array([3])"
            ]
          },
          "metadata": {
            "tags": []
          },
          "execution_count": 35
        }
      ]
    },
    {
      "cell_type": "code",
      "metadata": {
        "colab": {
          "base_uri": "https://localhost:8080/"
        },
        "id": "SMWFDPWcgelx",
        "outputId": "39fde7fa-d725-486c-d093-b8d40f2ba1ce"
      },
      "source": [
        "y_test[5]"
      ],
      "execution_count": 36,
      "outputs": [
        {
          "output_type": "execute_result",
          "data": {
            "text/plain": [
              "array([0., 0., 0., 1., 0., 0., 0., 0., 0., 0.], dtype=float32)"
            ]
          },
          "metadata": {
            "tags": []
          },
          "execution_count": 36
        }
      ]
    },
    {
      "cell_type": "code",
      "metadata": {
        "id": "jyTYrIx2ggHq"
      },
      "source": [
        "# Load the TFLite model and allocate tensors.\n",
        "interpreter = tf.lite.Interpreter(model_path=\"model.tflite\")\n",
        "interpreter.allocate_tensors()\n",
        "\n",
        "# Get input and output tensors.\n",
        "input_details = interpreter.get_input_details()\n",
        "output_details = interpreter.get_output_details()"
      ],
      "execution_count": 37,
      "outputs": []
    },
    {
      "cell_type": "code",
      "metadata": {
        "colab": {
          "base_uri": "https://localhost:8080/"
        },
        "id": "DCdDspb4git1",
        "outputId": "d7e2c0c6-f547-49b0-dd4c-25eb19a02627"
      },
      "source": [
        "input_details"
      ],
      "execution_count": 38,
      "outputs": [
        {
          "output_type": "execute_result",
          "data": {
            "text/plain": [
              "[{'dtype': numpy.float32,\n",
              "  'index': 0,\n",
              "  'name': 'conv2d_input',\n",
              "  'quantization': (0.0, 0),\n",
              "  'quantization_parameters': {'quantized_dimension': 0,\n",
              "   'scales': array([], dtype=float32),\n",
              "   'zero_points': array([], dtype=int32)},\n",
              "  'shape': array([ 1, 40,  1,  1], dtype=int32),\n",
              "  'shape_signature': array([-1, 40,  1,  1], dtype=int32),\n",
              "  'sparsity_parameters': {}}]"
            ]
          },
          "metadata": {
            "tags": []
          },
          "execution_count": 38
        }
      ]
    },
    {
      "cell_type": "code",
      "metadata": {
        "id": "xuWq4xd3gk_M"
      },
      "source": [
        "testData = np.expand_dims(x_test[5],axis=0)\n",
        "atData = np.float32(testData)"
      ],
      "execution_count": 39,
      "outputs": []
    },
    {
      "cell_type": "code",
      "metadata": {
        "colab": {
          "base_uri": "https://localhost:8080/"
        },
        "id": "b2cb4g6vgo1r",
        "outputId": "46a1f027-dad4-4f05-8841-ea9820476fe9"
      },
      "source": [
        "input_shape = input_details[0]['shape']\n",
        "input_data = np.array(np.random.random_sample(input_shape), dtype=np.float32)\n",
        "interpreter.set_tensor(input_details[0]['index'], atData)\n",
        "print(input_data.dtype)\n",
        "print(testData.shape)\n",
        "interpreter.invoke()\n",
        "\n",
        "# The function `get_tensor()` returns a copy of the tensor data.\n",
        "# Use `tensor()` in order to get a pointer to the tensor.\n",
        "output_data = interpreter.get_tensor(output_details[0]['index'])\n",
        "print(output_data)"
      ],
      "execution_count": 40,
      "outputs": [
        {
          "output_type": "stream",
          "text": [
            "float32\n",
            "(1, 40, 1, 1)\n",
            "[[3.7125814e-15 1.7018874e-12 4.2197898e-05 9.9995613e-01 4.4428518e-08\n",
            "  8.1795253e-13 2.1265755e-07 1.4132175e-15 1.4106186e-06 5.4203171e-09]]\n"
          ],
          "name": "stdout"
        }
      ]
    },
    {
      "cell_type": "code",
      "metadata": {
        "id": "alHgDzpxgrri"
      },
      "source": [
        ""
      ],
      "execution_count": null,
      "outputs": []
    }
  ]
}